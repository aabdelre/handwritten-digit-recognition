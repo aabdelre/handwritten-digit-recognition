{
 "cells": [
  {
   "cell_type": "code",
   "execution_count": 1,
   "metadata": {},
   "outputs": [],
   "source": [
    "import numpy as np\n",
    "import matplotlib.pyplot as plt\n",
    "import keras\n",
    "\n",
    "from keras.datasets import mnist\n",
    "from keras.models import Sequential\n",
    "from keras.layers import Dense, Conv2D, Flatten, Dropout, MaxPool2D\n",
    "from keras.callbacks import EarlyStopping, ModelCheckpoint"
   ]
  },
  {
   "cell_type": "code",
   "execution_count": 2,
   "metadata": {},
   "outputs": [
    {
     "data": {
      "text/plain": [
       "((60000, 28, 28), (60000,), (10000, 28, 28), (10000,))"
      ]
     },
     "execution_count": 2,
     "metadata": {},
     "output_type": "execute_result"
    }
   ],
   "source": [
    "(X_train, y_train), (X_test, y_test) = mnist.load_data()\n",
    "X_train.shape, y_train.shape, X_test.shape, y_test.shape"
   ]
  },
  {
   "cell_type": "code",
   "execution_count": 5,
   "metadata": {},
   "outputs": [],
   "source": [
    "def plot_img(i):\n",
    "    plt.imshow(X_train[i], cmap= 'binary')\n",
    "    plt.title(y_train[i])\n",
    "    plt.show()"
   ]
  },
  {
   "cell_type": "code",
   "execution_count": 6,
   "metadata": {},
   "outputs": [],
   "source": [
    "# Normalize the data\n",
    "X_train = X_train.astype(np.float32) / 255\n",
    "X_test = X_test.astype(np.float32) / 255\n",
    "\n",
    "# Add one more dimension\n",
    "X_train = np.expand_dims(X_train, -1)\n",
    "X_test = np.expand_dims(X_test, -1)\n",
    "\n",
    "# Convert classes to one hot vector\n",
    "y_train = keras.utils.to_categorical(y_train)\n",
    "y_test = keras.utils.to_categorical(y_test)"
   ]
  },
  {
   "cell_type": "code",
   "execution_count": 7,
   "metadata": {},
   "outputs": [],
   "source": [
    "model = Sequential()\n",
    "\n",
    "# Input layer\n",
    "model.add(Conv2D(32, (3, 3), input_shape = (28, 28, 1), activation= 'relu'))\n",
    "model.add(MaxPool2D((2, 2)))\n",
    "\n",
    "model.add(Conv2D(64, (3, 3), activation= 'relu'))\n",
    "model.add(MaxPool2D((2, 2)))\n",
    "\n",
    "model.add(Flatten())\n",
    "model.add(Dropout(0.25))\n",
    "\n",
    "# Output layer\n",
    "model.add(Dense(10, activation= 'softmax'))"
   ]
  },
  {
   "cell_type": "code",
   "execution_count": 8,
   "metadata": {},
   "outputs": [],
   "source": [
    "model.compile(optimizer= 'adam', loss= keras.losses.categorical_crossentropy, metrics = ['accuracy'])"
   ]
  },
  {
   "cell_type": "code",
   "execution_count": 9,
   "metadata": {},
   "outputs": [],
   "source": [
    "es = EarlyStopping(monitor= 'val_accuracy', min_delta= 0.01, patience= 4, verbose= True)\n",
    "mc = ModelCheckpoint(\"./bestmodel.h5\", monitor= 'val_accuracy', verbose= True, save_best_only= True)\n",
    "\n",
    "cb = [es, mc]"
   ]
  },
  {
   "attachments": {},
   "cell_type": "markdown",
   "metadata": {},
   "source": [
    "Model Training"
   ]
  },
  {
   "cell_type": "code",
   "execution_count": 10,
   "metadata": {},
   "outputs": [
    {
     "name": "stdout",
     "output_type": "stream",
     "text": [
      "Epoch 1/50\n",
      "1309/1313 [============================>.] - ETA: 0s - loss: 0.2165 - accuracy: 0.9332\n",
      "Epoch 1: val_accuracy improved from -inf to 0.97917, saving model to .\\bestmodel.h5\n",
      "1313/1313 [==============================] - 15s 11ms/step - loss: 0.2161 - accuracy: 0.9333 - val_loss: 0.0712 - val_accuracy: 0.9792\n",
      "Epoch 2/50\n",
      "1308/1313 [============================>.] - ETA: 0s - loss: 0.0737 - accuracy: 0.9772\n",
      "Epoch 2: val_accuracy improved from 0.97917 to 0.98167, saving model to .\\bestmodel.h5\n",
      "1313/1313 [==============================] - 15s 11ms/step - loss: 0.0735 - accuracy: 0.9772 - val_loss: 0.0572 - val_accuracy: 0.9817\n",
      "Epoch 3/50\n",
      "1308/1313 [============================>.] - ETA: 0s - loss: 0.0543 - accuracy: 0.9822\n",
      "Epoch 3: val_accuracy improved from 0.98167 to 0.98433, saving model to .\\bestmodel.h5\n",
      "1313/1313 [==============================] - 14s 11ms/step - loss: 0.0542 - accuracy: 0.9822 - val_loss: 0.0507 - val_accuracy: 0.9843\n",
      "Epoch 4/50\n",
      "1308/1313 [============================>.] - ETA: 0s - loss: 0.0444 - accuracy: 0.9855\n",
      "Epoch 4: val_accuracy improved from 0.98433 to 0.98656, saving model to .\\bestmodel.h5\n",
      "1313/1313 [==============================] - 14s 11ms/step - loss: 0.0443 - accuracy: 0.9855 - val_loss: 0.0471 - val_accuracy: 0.9866\n",
      "Epoch 5/50\n",
      "1311/1313 [============================>.] - ETA: 0s - loss: 0.0388 - accuracy: 0.9875\n",
      "Epoch 5: val_accuracy did not improve from 0.98656\n",
      "1313/1313 [==============================] - 14s 11ms/step - loss: 0.0388 - accuracy: 0.9875 - val_loss: 0.0484 - val_accuracy: 0.9859\n",
      "Epoch 5: early stopping\n"
     ]
    }
   ],
   "source": [
    "his = model.fit(X_train, y_train, epochs= 50, validation_split= 0.3, callbacks= cb)"
   ]
  },
  {
   "cell_type": "code",
   "execution_count": 11,
   "metadata": {},
   "outputs": [],
   "source": [
    "model_S = keras.models.load_model(\"C://Users//Ahmed Abdelrehim//OneDrive//Documents//GitHub//handwritten-digit-recognition//bestmodel.h5\")"
   ]
  },
  {
   "cell_type": "code",
   "execution_count": 12,
   "metadata": {},
   "outputs": [
    {
     "name": "stdout",
     "output_type": "stream",
     "text": [
      "313/313 [==============================] - 1s 3ms/step - loss: 0.0388 - accuracy: 0.9867\n",
      "The model's accuracy is 0.9866999983787537\n"
     ]
    },
    {
     "data": {
      "text/plain": [
       "((60000, 28, 28, 1), (60000, 10), (10000, 28, 28, 1), (10000, 10))"
      ]
     },
     "execution_count": 12,
     "metadata": {},
     "output_type": "execute_result"
    }
   ],
   "source": [
    "score = model_S.evaluate(X_test, y_test)\n",
    "print(f\"The model's accuracy is {score[1]}\")"
   ]
  },
  {
   "cell_type": "code",
   "execution_count": null,
   "metadata": {},
   "outputs": [],
   "source": []
  }
 ],
 "metadata": {
  "kernelspec": {
   "display_name": "Python 3",
   "language": "python",
   "name": "python3"
  },
  "language_info": {
   "codemirror_mode": {
    "name": "ipython",
    "version": 3
   },
   "file_extension": ".py",
   "mimetype": "text/x-python",
   "name": "python",
   "nbconvert_exporter": "python",
   "pygments_lexer": "ipython3",
   "version": "3.10.4"
  },
  "orig_nbformat": 4,
  "vscode": {
   "interpreter": {
    "hash": "369f2c481f4da34e4445cda3fffd2e751bd1c4d706f27375911949ba6bb62e1c"
   }
  }
 },
 "nbformat": 4,
 "nbformat_minor": 2
}
